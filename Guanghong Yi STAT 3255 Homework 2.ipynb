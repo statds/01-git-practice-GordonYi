{
 "cells": [
  {
   "cell_type": "markdown",
   "id": "2a8d7a6e",
   "metadata": {},
   "source": [
    "# Guanghong Yi Homework 2"
   ]
  },
  {
   "cell_type": "markdown",
   "id": "76058327",
   "metadata": {},
   "source": [
    "## Monty Hall simulation"
   ]
  },
  {
   "cell_type": "code",
   "execution_count": 65,
   "id": "536a539e",
   "metadata": {},
   "outputs": [
    {
     "name": "stdout",
     "output_type": "stream",
     "text": [
      "Monty Hall Simulation with 3 doors in 1000 trials\n",
      "Probability of wins without switching: 0.3540\n",
      "Probability of wins with switching: 0.6630\n",
      "Monty Hall Simulation with 5 doors in 1000 trials\n",
      "Probability of wins without switching: 0.2170\n",
      "Probability of wins with switching: 0.2650\n"
     ]
    }
   ],
   "source": [
    "import random\n",
    "\n",
    "def door_switch(door_choosen,ndoors):\n",
    "    #Discuss the situation when we try to switch the door.\n",
    "    reveal_door = 0\n",
    "    door_switched = 0\n",
    "    avaliable_doors = []\n",
    "    if door_choosen != 2:\n",
    "        reveal_door = 2\n",
    "    if door_choosen == 2:\n",
    "        reveal_door = 3 \n",
    "    avaliable_doors = list(range(1,ndoors+1))\n",
    "    avaliable_doors.remove(door_choosen)\n",
    "    avaliable_doors.remove(reveal_door)\n",
    "    door_choosen = random.choice(avaliable_doors)\n",
    "    return door_choosen\n",
    "\n",
    "def Monty_Hall_trial(ndoors,switch_door):\n",
    "    #One trial simulation for the problem\n",
    "    door_choosen = random.randint(1,ndoors)\n",
    "    if switch_door == True:\n",
    "        door_choosen = door_switch(door_choosen,ndoors)\n",
    "    else:\n",
    "        door_choosen = door_choosen\n",
    "    return door_choosen\n",
    "\n",
    "def trial_count(ntrials,ndoors,switch_door):\n",
    "    #n times for a n doors simulation\n",
    "    winning_times =0\n",
    "    for i in range(ntrials):\n",
    "        result = Monty_Hall_trial(ndoors, switch_door)\n",
    "        if result == 1:\n",
    "            winning_times += 1\n",
    "    return winning_times\n",
    "\n",
    "ntrials = 1000\n",
    "ndoors = 3\n",
    "#3 doors Monty Hall simulation for 1000 times\n",
    "winning_times_without_switch_door = trial_count(ntrials,ndoors,switch_door=False)\n",
    "winning_times_with_switch_door = trial_count(ntrials,ndoors,switch_door=True)\n",
    "print('Monty Hall Simulation with {} doors in {} trials'.format(ndoors,ntrials))\n",
    "print('Probability of wins without switching: {:.4f}'\n",
    "            .format(winning_times_without_switch_door/ntrials))\n",
    "print('Probability of wins with switching: {:.4f}'\n",
    "            .format(winning_times_with_switch_door/ntrials))\n",
    "\n",
    "ntrials = 1000\n",
    "ndoors = 5\n",
    "#5 doors Monty Hall simulation for 1000 times\n",
    "winning_times_without_switch_door = trial_count(ntrials,ndoors,switch_door=False)\n",
    "winning_times_with_switch_door = trial_count(ntrials,ndoors,switch_door=True)\n",
    "print('Monty Hall Simulation with {} doors in {} trials'.format(ndoors,ntrials))\n",
    "print('Probability of wins without switching: {:.4f}'\n",
    "            .format(winning_times_without_switch_door/ntrials))\n",
    "print('Probability of wins with switching: {:.4f}'\n",
    "            .format(winning_times_with_switch_door/ntrials))"
   ]
  },
  {
   "cell_type": "markdown",
   "id": "686fe7e8",
   "metadata": {},
   "source": [
    "## Monte Carlo Simulation"
   ]
  },
  {
   "cell_type": "code",
   "execution_count": 27,
   "id": "a30524cd",
   "metadata": {},
   "outputs": [
    {
     "name": "stdout",
     "output_type": "stream",
     "text": [
      "Point Estimation of pi for 1000 samples: 3.288\n",
      "Confidence interval of pi for 1000 samples: [3.04140, 3.24200]\n",
      "Point Estimation of pi for 2000 samples: 3.154\n",
      "Confidence interval of pi for 2000 samples: [3.07103, 3.21498]\n",
      "Point Estimation of pi for 4000 samples: 3.086\n",
      "Confidence interval of pi for 4000 samples: [3.09044, 3.19183]\n",
      "Point Estimation of pi for 8000 samples: 3.1215\n",
      "Confidence interval of pi for 8000 samples: [3.10530, 3.17714]\n"
     ]
    }
   ],
   "source": [
    "import random\n",
    "import numpy as np\n",
    "\n",
    "def estimate_pi(n):\n",
    "    #Estimate Pi by Monte Carlo estimation\n",
    "    inside_circle_points = 0\n",
    "    x = np.random.uniform(-1, 1,n)\n",
    "    y = np.random.uniform(-1, 1,n)\n",
    "    inside_circle_points = np.where(np.sqrt(x**2 + y**2<=1), 1 , 0)\n",
    "    points_sum = sum(inside_circle_points)\n",
    "    pi_estimation = 4 * points_sum / n\n",
    "    return  pi_estimation\n",
    "\n",
    "def nightyfive_percent_confidence_interval(n):\n",
    "    #Estimate 95% CI for pi estimation\n",
    "    estimations = []\n",
    "    for i in range(n):\n",
    "        estimation = estimate_pi(n)\n",
    "        estimations.append(estimation)\n",
    "    mean = np.mean(estimations)\n",
    "    standard_deviation = np.std(estimations)\n",
    "    lower_bound = mean - standard_deviation*1.96\n",
    "    upper_bound = mean + standard_deviation*1.96\n",
    "    return lower_bound, upper_bound\n",
    "\n",
    "n_numbers = [1000,2000,4000,8000]\n",
    "for i in n_numbers:\n",
    "    pi_estimation = estimate_pi(i)\n",
    "    lower, upper = nightyfive_percent_confidence_interval(i)\n",
    "    print(\"Point Estimation of pi for {} samples:\".format(i),pi_estimation)\n",
    "    #As we can see, when the sample size goes up, the pi estimation are closer to the real pi value 3.1415926...\n",
    "    print(\"Confidence interval of pi for {} samples: [{:.5f}, {:.5f}]\".format(i,lower, upper))\n",
    "    #As the sample size goes up, the confidence interval are closer and more accurate.\n"
   ]
  }
 ],
 "metadata": {
  "kernelspec": {
   "display_name": "Python 3 (ipykernel)",
   "language": "python",
   "name": "python3"
  },
  "language_info": {
   "codemirror_mode": {
    "name": "ipython",
    "version": 3
   },
   "file_extension": ".py",
   "mimetype": "text/x-python",
   "name": "python",
   "nbconvert_exporter": "python",
   "pygments_lexer": "ipython3",
   "version": "3.9.7"
  }
 },
 "nbformat": 4,
 "nbformat_minor": 5
}
